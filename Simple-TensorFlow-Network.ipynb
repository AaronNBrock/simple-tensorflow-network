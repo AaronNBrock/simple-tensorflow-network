{
 "cells": [
  {
   "cell_type": "code",
   "execution_count": 1,
   "metadata": {
    "collapsed": true,
    "deletable": true,
    "editable": true
   },
   "outputs": [],
   "source": [
    "import numpy as np\n",
    "import tensorflow as tf\n",
    "import random"
   ]
  },
  {
   "cell_type": "code",
   "execution_count": 38,
   "metadata": {
    "collapsed": true,
    "deletable": true,
    "editable": true
   },
   "outputs": [],
   "source": [
    "def build_network(n_inputs, n_hiddens, n_outputs, learning_rate=0.01):\n",
    "    x = tf.placeholder(tf.float32, [None, n_inputs], name='inputs')\n",
    "    y = tf.placeholder(tf.float32, [None, n_outputs], name='outputs')\n",
    "    \n",
    "    weights_0_1 = tf.Variable(tf.random_normal([n_inputs, n_hiddens]))\n",
    "    weights_1_2 = tf.Variable(tf.random_normal([n_hiddens, n_outputs]))\n",
    "    \n",
    "    hidden_input = tf.matmul(x, weights_0_1)\n",
    "    hidden_output = tf.nn.sigmoid(hidden_input)\n",
    "    \n",
    "    final_input = tf.matmul(hidden_output, weights_1_2)\n",
    "    final_output = tf.nn.sigmoid(final_input)\n",
    "\n",
    "    cost = tf.square(tf.subtract(y, final_output))\n",
    "    \n",
    "    optimizer = tf.train.AdamOptimizer(learning_rate=learning_rate).minimize(cost)\n",
    "\n",
    "    return x, y, final_output, cost, optimizer\n",
    "\n",
    "    \n",
    "    "
   ]
  },
  {
   "cell_type": "code",
   "execution_count": 39,
   "metadata": {
    "collapsed": true,
    "deletable": true,
    "editable": true
   },
   "outputs": [],
   "source": [
    "def train_test_split(features, labels, test_size=0.25, random_state=1):\n",
    "    \n",
    "    assert(len(features) == len(labels))\n",
    "    assert(len(features) > 1)\n",
    "    combined = list(zip(features, labels))\n",
    "    random.seed(random_state)\n",
    "    random.shuffle(combined)\n",
    "    \n",
    "    features[:], labels[:] = zip(*combined)\n",
    "    \n",
    "    split_idx = int(np.ceil(len(features) * test_size))\n",
    "    \n",
    "    features_train, features_test, labels_train, labels_test = \\\n",
    "        features[split_idx:], features[:split_idx], labels[split_idx:], labels[:split_idx]\n",
    "    \n",
    "    return features_train, features_test, labels_train, labels_test"
   ]
  },
  {
   "cell_type": "code",
   "execution_count": 40,
   "metadata": {
    "collapsed": true,
    "deletable": true,
    "editable": true
   },
   "outputs": [],
   "source": [
    "def accuracy_score(logits, labels):\n",
    "    assert(len(logits) == len(labels))\n",
    "    assert(len(logits) > 0)\n",
    "    \n",
    "    correct = 0\n",
    "    \n",
    "    for logit, label in zip(logits, labels):\n",
    "        if logit == label:\n",
    "            correct += 1\n",
    "    return correct/len(logits)"
   ]
  },
  {
   "cell_type": "code",
   "execution_count": 41,
   "metadata": {
    "collapsed": true,
    "deletable": true,
    "editable": true
   },
   "outputs": [],
   "source": [
    "n_inputs = 6\n",
    "n_hiddens = 4\n",
    "n_outputs = 1 # don't change\n",
    "function = lambda features: np.sum(features) > 2\n",
    "learning_rate = 0.01\n",
    "epochs = 10000\n",
    "test_split = 0.10\n"
   ]
  },
  {
   "cell_type": "code",
   "execution_count": 43,
   "metadata": {
    "collapsed": false,
    "deletable": true,
    "editable": true
   },
   "outputs": [
    {
     "name": "stdout",
     "output_type": "stream",
     "text": [
      "starting session...\n",
      "Accuracy: 1.0\n"
     ]
    }
   ],
   "source": [
    "# Generate data\n",
    "features = np.array(np.meshgrid( *([[0, 1]]*n_inputs) )).T.reshape(-1,n_inputs)\n",
    "labels = np.zeros((features.shape[0], n_outputs), dtype=int)\n",
    "for key, row in enumerate(features):\n",
    "    if (function(row)): # Qualifier\n",
    "        labels[key] = 1\n",
    "\n",
    "# Split Data\n",
    "features_train, features_test, labels_train, labels_test = \\\n",
    "    train_test_split(features, labels, test_size=test_split, random_state=42)\n",
    "\n",
    "x, y, pred, cost, optimizer = build_network(n_inputs, n_hiddens, n_outputs, learning_rate)\n",
    "\n",
    "accuracy = tf.contrib.metrics.accuracy(tf.cast(tf.round(pred), dtype=tf.int32), tf.cast(tf.round(y), dtype=tf.int32))\n",
    "\n",
    "with tf.Session() as sess:\n",
    "    sess.run(tf.global_variables_initializer())\n",
    "    \n",
    "    \n",
    "    for epoch in range(epochs):\n",
    "        _, c = sess.run([optimizer, cost], feed_dict={x: features_train,\n",
    "                                                      y: labels_train})\n",
    "    \n",
    "    accuracy = sess.run(accuracy, feed_dict={x: features_test, \n",
    "                                        y: labels_test})\n",
    "    \n",
    "    print('Accuracy: {}'.format(accuracy))\n",
    "    \n",
    "        "
   ]
  },
  {
   "cell_type": "code",
   "execution_count": null,
   "metadata": {
    "collapsed": true,
    "deletable": true,
    "editable": true
   },
   "outputs": [],
   "source": []
  }
 ],
 "metadata": {
  "anaconda-cloud": {},
  "kernelspec": {
   "display_name": "Python [default]",
   "language": "python",
   "name": "python3"
  },
  "language_info": {
   "codemirror_mode": {
    "name": "ipython",
    "version": 3
   },
   "file_extension": ".py",
   "mimetype": "text/x-python",
   "name": "python",
   "nbconvert_exporter": "python",
   "pygments_lexer": "ipython3",
   "version": "3.5.3"
  }
 },
 "nbformat": 4,
 "nbformat_minor": 2
}
